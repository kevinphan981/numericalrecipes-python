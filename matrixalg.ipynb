{
 "cells": [
  {
   "cell_type": "code",
   "execution_count": 2,
   "metadata": {},
   "outputs": [],
   "source": [
    "import numpy as np\n",
    "import matplotlib.pyplot as plt"
   ]
  },
  {
   "cell_type": "markdown",
   "metadata": {},
   "source": [
    "# Basic Vector Construction"
   ]
  },
  {
   "cell_type": "code",
   "execution_count": 5,
   "metadata": {},
   "outputs": [
    {
     "name": "stdout",
     "output_type": "stream",
     "text": [
      "[3. 5. 6.]\n",
      "[4. 4. 4.]\n"
     ]
    }
   ],
   "source": [
    "x = np.ones(3) # vector of ones, length 3\n",
    "y = np.array((2,4,5)) # converts a tuple into an array\n",
    "a = x + y # adds the vectors by element\n",
    "print(a)\n",
    "#likewise, we can multiply\n",
    "print(4*(x))"
   ]
  },
  {
   "cell_type": "markdown",
   "metadata": {},
   "source": [
    "## Inner Product & Norm"
   ]
  },
  {
   "cell_type": "code",
   "execution_count": 9,
   "metadata": {},
   "outputs": [
    {
     "data": {
      "text/plain": [
       "np.float64(1.7320508075688772)"
      ]
     },
     "execution_count": 9,
     "metadata": {},
     "output_type": "execute_result"
    }
   ],
   "source": [
    "np.sum(x*y) #takes the inner product of x,y, also known as the dot product\n",
    "x @ y #another way\n",
    "\n",
    "# the norm is the metric on the vector space\n",
    "np.sqrt(np.sum(x**2)) #notice similar to euclidean metric\n",
    "np.linalg.norm(x) #alternative"
   ]
  },
  {
   "cell_type": "markdown",
   "metadata": {},
   "source": [
    "# Basic Matrices"
   ]
  },
  {
   "cell_type": "code",
   "execution_count": 12,
   "metadata": {},
   "outputs": [
    {
     "name": "stdout",
     "output_type": "stream",
     "text": [
      "Identity Matrix:  [[1. 0. 0.]\n",
      " [0. 1. 0.]\n",
      " [0. 0. 1.]]\n",
      "2x3 Matrix of Ones:  [[1. 1. 1.]\n",
      " [1. 1. 1.]]\n",
      "A unique 3x3 matrix we made:  [[1 2 3]\n",
      " [4 5 6]\n",
      " [7 8 9]]\n",
      "Sum operation of two matrices:  [[ 2.  2.  3.]\n",
      " [ 4.  6.  6.]\n",
      " [ 7.  8. 10.]]\n"
     ]
    }
   ],
   "source": [
    "# basic matrix filled with 1s and 0s\n",
    "\n",
    "id_matrix = np.identity(3) # 3x3 identity matrix\n",
    "print(\"Identity Matrix: \",id_matrix)\n",
    "ones_matrix = np.ones((2,3)) #2x3 ones matrix, meaning it is full of ones.\n",
    "print(\"2x3 Matrix of Ones: \", ones_matrix) # as expected\n",
    "\n",
    "unique = np.matrix([[1,2,3], # we can make our own matrices\n",
    "          [4,5,6],\n",
    "          [7,8,9]])\n",
    "\n",
    "\n",
    "print(\"A unique 3x3 matrix we made: \", unique)\n",
    "\n",
    "sum = unique + id_matrix # you can add and subtract matrices, remember matrix algebra principles.\n",
    "print(\"Sum operation of two matrices: \", sum)\n"
   ]
  },
  {
   "cell_type": "markdown",
   "metadata": {},
   "source": [
    "Likewise, we are able to modify and learn more about our matrices with these operations."
   ]
  },
  {
   "cell_type": "code",
   "execution_count": 17,
   "metadata": {},
   "outputs": [
    {
     "name": "stdout",
     "output_type": "stream",
     "text": [
      "The shape of our unique matrix is:  (3, 3)\n",
      "Transpose of unique matrix:  [[1 4 7]\n",
      " [2 5 8]\n",
      " [3 6 9]]\n",
      "Inverse of the unique matrix:  [[-4.50359963e+15  9.00719925e+15 -4.50359963e+15]\n",
      " [ 9.00719925e+15 -1.80143985e+16  9.00719925e+15]\n",
      " [-4.50359963e+15  9.00719925e+15 -4.50359963e+15]]\n"
     ]
    }
   ],
   "source": [
    "print(\"The shape of our unique matrix is: \", unique.shape) # finds the shape of the matrix,(row, column)\n",
    "\n",
    "#we are also able to transpose and take the inverse of the matrix easily\n",
    "print(\"Transpose of unique matrix: \", unique.T)\n",
    "\n",
    "print(\"Inverse of the unique matrix: \", np.linalg.inv(unique))\n",
    "# note that this operation only works with square matrices\n"
   ]
  },
  {
   "cell_type": "markdown",
   "metadata": {},
   "source": [
    "# Solving Linear Equations\n",
    "One of the basic applications of matrix algebra is solving systems of linear equations. We are able to do this with pencil and paper, but it requires many substitutions that may be unwieldy to some. It is much more systematic with matrices, especially with code."
   ]
  },
  {
   "cell_type": "markdown",
   "metadata": {},
   "source": [
    "## Basic Exercise in Economics\n",
    "\n",
    "If we had $q_d = Dp + h$\n",
    "\n",
    "$$\\begin{pmatrix}\n",
    "    1 & 2 & 3 \\\\\n",
    "    4 & 5 & 6 \\\\\n",
    "    7 & 8 & 9\n",
    "\\end{pmatrix}$$"
   ]
  },
  {
   "cell_type": "code",
   "execution_count": null,
   "metadata": {},
   "outputs": [],
   "source": []
  },
  {
   "cell_type": "code",
   "execution_count": null,
   "metadata": {},
   "outputs": [],
   "source": []
  }
 ],
 "metadata": {
  "kernelspec": {
   "display_name": "env",
   "language": "python",
   "name": "python3"
  },
  "language_info": {
   "codemirror_mode": {
    "name": "ipython",
    "version": 3
   },
   "file_extension": ".py",
   "mimetype": "text/x-python",
   "name": "python",
   "nbconvert_exporter": "python",
   "pygments_lexer": "ipython3",
   "version": "3.12.6"
  }
 },
 "nbformat": 4,
 "nbformat_minor": 2
}
